{
 "cells": [
  {
   "cell_type": "code",
   "execution_count": null,
   "metadata": {},
   "outputs": [],
   "source": [
    "#@title MIT License\n",
    "#\n",
    "# Copyright (c) 2020 Balázs Pintér \n",
    "#\n",
    "# Permission is hereby granted, free of charge, to any person obtaining a\n",
    "# copy of this software and associated documentation files (the \"Software\"),\n",
    "# to deal in the Software without restriction, including without limitation\n",
    "# the rights to use, copy, modify, merge, publish, distribute, sublicense,\n",
    "# and/or sell copies of the Software, and to permit persons to whom the\n",
    "# Software is furnished to do so, subject to the following conditions:\n",
    "#\n",
    "# The above copyright notice and this permission notice shall be included in\n",
    "# all copies or substantial portions of the Software.\n",
    "#\n",
    "# THE SOFTWARE IS PROVIDED \"AS IS\", WITHOUT WARRANTY OF ANY KIND, EXPRESS OR\n",
    "# IMPLIED, INCLUDING BUT NOT LIMITED TO THE WARRANTIES OF MERCHANTABILITY,\n",
    "# FITNESS FOR A PARTICULAR PURPOSE AND NONINFRINGEMENT. IN NO EVENT SHALL\n",
    "# THE AUTHORS OR COPYRIGHT HOLDERS BE LIABLE FOR ANY CLAIM, DAMAGES OR OTHER\n",
    "# LIABILITY, WHETHER IN AN ACTION OF CONTRACT, TORT OR OTHERWISE, ARISING\n",
    "# FROM, OUT OF OR IN CONNECTION WITH THE SOFTWARE OR THE USE OR OTHER\n",
    "# DEALINGS IN THE SOFTWARE."
   ]
  },
  {
   "cell_type": "markdown",
   "metadata": {},
   "source": [
    "# Python crash course"
   ]
  },
  {
   "cell_type": "markdown",
   "metadata": {},
   "source": [
    "## Functions"
   ]
  },
  {
   "cell_type": "code",
   "execution_count": 5,
   "metadata": {},
   "outputs": [],
   "source": [
    "def double(x):\n",
    "    return 2*x"
   ]
  },
  {
   "cell_type": "code",
   "execution_count": 6,
   "metadata": {},
   "outputs": [
    {
     "data": {
      "text/plain": [
       "4"
      ]
     },
     "execution_count": 6,
     "metadata": {},
     "output_type": "execute_result"
    }
   ],
   "source": [
    "double(2)"
   ]
  },
  {
   "cell_type": "markdown",
   "metadata": {},
   "source": [
    "### Function definitions are dynamic, and they are basically assignments: we assign the function to the name. They can be almost anywhere in the code."
   ]
  },
  {
   "cell_type": "code",
   "execution_count": 7,
   "metadata": {},
   "outputs": [
    {
     "data": {
      "text/plain": [
       "6"
      ]
     },
     "execution_count": 7,
     "metadata": {},
     "output_type": "execute_result"
    }
   ],
   "source": [
    "a = False\n",
    "if a:\n",
    "    def f(x):\n",
    "        return 2*x\n",
    "else:\n",
    "    def f(x):\n",
    "        return 3*x\n",
    "#a= Ture 此处的ture并不影响f(x)的内容，因为在f(x)写入前 已经认定a是false\n",
    "f(2)"
   ]
  },
  {
   "cell_type": "markdown",
   "metadata": {},
   "source": [
    "### Functions are first class objects"
   ]
  },
  {
   "cell_type": "code",
   "execution_count": 7,
   "metadata": {},
   "outputs": [
    {
     "data": {
      "text/plain": [
       "<function __main__.f(x)>"
      ]
     },
     "execution_count": 7,
     "metadata": {},
     "output_type": "execute_result"
    }
   ],
   "source": [
    "f"
   ]
  },
  {
   "cell_type": "code",
   "execution_count": 17,
   "metadata": {},
   "outputs": [
    {
     "data": {
      "text/plain": [
       "9"
      ]
     },
     "execution_count": 17,
     "metadata": {},
     "output_type": "execute_result"
    }
   ],
   "source": [
    "g = f\n",
    "g(3)"
   ]
  },
  {
   "cell_type": "code",
   "execution_count": 8,
   "metadata": {},
   "outputs": [
    {
     "name": "stdout",
     "output_type": "stream",
     "text": [
      "[<function f at 0x000002B7F61FD430>, <function double at 0x000002B7F61FD1F0>, <function f at 0x000002B7F61FD430>, <function f at 0x000002B7F61FD430>, <function double at 0x000002B7F61FD1F0>]\n",
      "9\n",
      "6\n",
      "9\n",
      "9\n",
      "6\n"
     ]
    }
   ],
   "source": [
    "l = [f, double, f, f, double]\n",
    "print(l)\n",
    "for fun in l:\n",
    "    print(fun(3))"
   ]
  },
  {
   "cell_type": "code",
   "execution_count": 19,
   "metadata": {},
   "outputs": [
    {
     "data": {
      "text/plain": [
       "<function __main__.double(x)>"
      ]
     },
     "execution_count": 19,
     "metadata": {},
     "output_type": "execute_result"
    }
   ],
   "source": [
    "d = {'d': double,\n",
    "     't': f}\n",
    "d['d']"
   ]
  },
  {
   "cell_type": "markdown",
   "metadata": {},
   "source": [
    "**Exercise**: Write a function that reverses a sequence (for example, a list, or a string)."
   ]
  },
  {
   "cell_type": "code",
   "execution_count": 41,
   "metadata": {},
   "outputs": [],
   "source": [
    "def reverse(list):\n",
    "    for i in range(0,int(len(list)/2)+1):\n",
    "        list[i],list[len(list)-i-1]=list[len(list)-i-1],list[i]"
   ]
  },
  {
   "cell_type": "code",
   "execution_count": 45,
   "metadata": {},
   "outputs": [
    {
     "data": {
      "text/plain": [
       "[8, 7, 6, 4, 5, 3, 2, 1]"
      ]
     },
     "execution_count": 45,
     "metadata": {},
     "output_type": "execute_result"
    }
   ],
   "source": [
    "l=[1,2,3,4,5,6,7,8]\n",
    "reverse(l)\n",
    "l"
   ]
  },
  {
   "cell_type": "code",
   "execution_count": 48,
   "metadata": {},
   "outputs": [],
   "source": [
    "#老师写的\n",
    "def reverse1(seq):\n",
    "    reversed_list=[]\n",
    "    for e in seq:\n",
    "        reversed_list=[e]+reversed_list\n",
    "    return reversed_list"
   ]
  },
  {
   "cell_type": "code",
   "execution_count": 49,
   "metadata": {},
   "outputs": [
    {
     "data": {
      "text/plain": [
       "[4, 3, 2, 1]"
      ]
     },
     "execution_count": 49,
     "metadata": {},
     "output_type": "execute_result"
    }
   ],
   "source": [
    "reverse1([1,2,3,4])"
   ]
  },
  {
   "cell_type": "code",
   "execution_count": 50,
   "metadata": {},
   "outputs": [
    {
     "ename": "ModuleNotFoundError",
     "evalue": "No module named 'collection'",
     "output_type": "error",
     "traceback": [
      "\u001b[1;31m---------------------------------------------------------------------------\u001b[0m",
      "\u001b[1;31mModuleNotFoundError\u001b[0m                       Traceback (most recent call last)",
      "\u001b[1;32m<ipython-input-50-8ff0f97fb603>\u001b[0m in \u001b[0;36m<module>\u001b[1;34m\u001b[0m\n\u001b[0;32m      1\u001b[0m \u001b[1;31m#老师写的2\u001b[0m\u001b[1;33m\u001b[0m\u001b[1;33m\u001b[0m\u001b[1;33m\u001b[0m\u001b[0m\n\u001b[1;32m----> 2\u001b[1;33m \u001b[1;32mfrom\u001b[0m \u001b[0mcollection\u001b[0m \u001b[1;32mimport\u001b[0m \u001b[0mdeque\u001b[0m\u001b[1;33m\u001b[0m\u001b[1;33m\u001b[0m\u001b[0m\n\u001b[0m\u001b[0;32m      3\u001b[0m \u001b[1;32mdef\u001b[0m \u001b[0mreverse2\u001b[0m\u001b[1;33m(\u001b[0m\u001b[0ml\u001b[0m\u001b[1;33m)\u001b[0m\u001b[1;33m:\u001b[0m\u001b[1;33m\u001b[0m\u001b[1;33m\u001b[0m\u001b[0m\n\u001b[0;32m      4\u001b[0m     \u001b[0mreversed_list\u001b[0m\u001b[1;33m=\u001b[0m\u001b[0mdeque\u001b[0m\u001b[1;33m(\u001b[0m\u001b[1;33m)\u001b[0m\u001b[1;33m\u001b[0m\u001b[1;33m\u001b[0m\u001b[0m\n\u001b[0;32m      5\u001b[0m     \u001b[1;32mfor\u001b[0m \u001b[0me\u001b[0m \u001b[1;32min\u001b[0m \u001b[0ml\u001b[0m\u001b[1;33m:\u001b[0m\u001b[1;33m\u001b[0m\u001b[1;33m\u001b[0m\u001b[0m\n",
      "\u001b[1;31mModuleNotFoundError\u001b[0m: No module named 'collection'"
     ]
    }
   ],
   "source": [
    "#老师写的2\n",
    "from collection import deque\n",
    "def reverse2(l):\n",
    "    reversed_list=deque()\n",
    "    for e in l:\n",
    "        reversed_list.appendleft(e)\n",
    "    return list(reversed_list)"
   ]
  },
  {
   "cell_type": "code",
   "execution_count": 46,
   "metadata": {},
   "outputs": [
    {
     "name": "stdout",
     "output_type": "stream",
     "text": [
      "3\n",
      "3\n"
     ]
    }
   ],
   "source": [
    "a = 3\n",
    "print(a)\n",
    "def f(x):\n",
    "    x += 3\n",
    "f(a)\n",
    "print(a)"
   ]
  },
  {
   "cell_type": "code",
   "execution_count": 9,
   "metadata": {},
   "outputs": [
    {
     "name": "stdout",
     "output_type": "stream",
     "text": [
      "[1, 2, 3]\n",
      "[1, 2, 3, 1]\n"
     ]
    }
   ],
   "source": [
    "l = [1, 2, 3]\n",
    "print(l)\n",
    "def f(x):\n",
    "    x += [1]\n",
    "f(l)\n",
    "print(l)"
   ]
  },
  {
   "cell_type": "markdown",
   "metadata": {},
   "source": [
    "### Different kinds of parameters"
   ]
  },
  {
   "cell_type": "code",
   "execution_count": 51,
   "metadata": {},
   "outputs": [
    {
     "name": "stdout",
     "output_type": "stream",
     "text": [
      "x=1, y=2\n",
      "3\n",
      "x=1, y=2\n",
      "3\n",
      "x=1, y=2\n",
      "3\n",
      "x=2, y=1\n",
      "3\n"
     ]
    }
   ],
   "source": [
    "# keywords 不同的参数传递方式\n",
    "def plus(x, y):\n",
    "    print(f'x={x}, y={y}')\n",
    "    return x + y\n",
    "\n",
    "print(plus(1, 2))\n",
    "print(plus(x=1, y=2))\n",
    "print(plus(1, y=2))\n",
    "print(plus(y=1, x=2))"
   ]
  },
  {
   "cell_type": "code",
   "execution_count": 52,
   "metadata": {},
   "outputs": [
    {
     "name": "stdout",
     "output_type": "stream",
     "text": [
      "x=3, y=4\n",
      "7\n",
      "x=5, y=4\n",
      "9\n",
      "x=3, y=5\n",
      "8\n"
     ]
    }
   ],
   "source": [
    "# default values\n",
    "def plus(x=3, y=4):\n",
    "    print(f'x={x}, y={y}')\n",
    "    return x + y\n",
    "\n",
    "print(plus())\n",
    "print(plus(5))\n",
    "print(plus(y=5))"
   ]
  },
  {
   "cell_type": "code",
   "execution_count": 53,
   "metadata": {},
   "outputs": [
    {
     "name": "stdout",
     "output_type": "stream",
     "text": [
      "x=1, y=3, z=4\n",
      "8\n",
      "x=5, y=3, z=6\n",
      "14\n",
      "x=5, y=3, z=6\n",
      "14\n"
     ]
    }
   ],
   "source": [
    "def plus(x, y=3, z=4):\n",
    "    print(f'x={x}, y={y}, z={z}')\n",
    "    return x + y + z\n",
    "\n",
    "print(plus(1))\n",
    "print(plus(5, z=6))\n",
    "print(plus(z=6, x=5))\n",
    "# print(plus(z=5)) wouldn't work, as x doesn't get a values"
   ]
  },
  {
   "cell_type": "markdown",
   "metadata": {},
   "source": [
    "**Exercise**: Write a function that \"translates\" a list of words! It expects a list of words and a dictionary of translations of words, and replaces each word with its translation. It also has a keyword argument called \"reverse\" with a default value of False. If it's true, then the translation should occur in the reverse direction."
   ]
  },
  {
   "cell_type": "code",
   "execution_count": 55,
   "metadata": {},
   "outputs": [],
   "source": [
    "words = ['the', 'happy', 'dog', 'was', 'happy', 'and', 'a', 'dog']\n",
    "translate_dict = {'the': 'a',\n",
    "                  'happy': 'boldog',\n",
    "                  'dog': 'kutya',\n",
    "                  'was': 'volt',\n",
    "                  'and': 'es',\n",
    "                  'a': 'egy'}"
   ]
  },
  {
   "cell_type": "code",
   "execution_count": 66,
   "metadata": {},
   "outputs": [],
   "source": [
    "def translate(words,dicts,reverse=False):\n",
    "    tranedwords=[]\n",
    "    for e in words:\n",
    "        tranedwords.append(dicts[e])\n",
    "    if reverse is True:\n",
    "        for i in range(0,int(len(tranedwords))+1):\n",
    "            tranedwords[0],tranedwords[len(tranedwords)-1]=tranedwords[len(tranedwords)-1],tranedwords[0]\n",
    "    return tranedwords"
   ]
  },
  {
   "cell_type": "code",
   "execution_count": 68,
   "metadata": {},
   "outputs": [
    {
     "data": {
      "text/plain": [
       "['kutya', 'boldog', 'kutya', 'volt', 'boldog', 'es', 'egy', 'a']"
      ]
     },
     "execution_count": 68,
     "metadata": {},
     "output_type": "execute_result"
    }
   ],
   "source": [
    "new=translate(words,translate_dict,reverse=True)\n",
    "new"
   ]
  },
  {
   "cell_type": "code",
   "execution_count": 76,
   "metadata": {},
   "outputs": [],
   "source": [
    "#老师的版本\n",
    "def translate1(words,translate_dict,reverse=False):\n",
    "    if reverse:\n",
    "        word=reverse(words)\n",
    "    return [translate_dict[word] for word in words]"
   ]
  },
  {
   "cell_type": "code",
   "execution_count": 75,
   "metadata": {},
   "outputs": [
    {
     "data": {
      "text/plain": [
       "['kutya', 'boldog', 'kutya', 'volt', 'boldog', 'es', 'egy', 'a']"
      ]
     },
     "execution_count": 75,
     "metadata": {},
     "output_type": "execute_result"
    }
   ],
   "source": [
    "translate(words,translate_dict,True)"
   ]
  },
  {
   "cell_type": "markdown",
   "metadata": {},
   "source": [
    "### Lambda functions"
   ]
  },
  {
   "cell_type": "code",
   "execution_count": 77,
   "metadata": {},
   "outputs": [
    {
     "data": {
      "text/plain": [
       "16"
      ]
     },
     "execution_count": 77,
     "metadata": {},
     "output_type": "execute_result"
    }
   ],
   "source": [
    "#单行表达式\n",
    "f = lambda x: x**2\n",
    "f(4)"
   ]
  },
  {
   "cell_type": "code",
   "execution_count": 11,
   "metadata": {},
   "outputs": [
    {
     "data": {
      "text/plain": [
       "[1, 4, 9]"
      ]
     },
     "execution_count": 11,
     "metadata": {},
     "output_type": "execute_result"
    }
   ],
   "source": [
    "list(map(lambda x: x**2, [1, 2, 3]))"
   ]
  },
  {
   "cell_type": "markdown",
   "metadata": {},
   "source": [
    "**Exercise**: Create a dictionary of lambda functions. The keys should be strings with operations like 'add', 'subtract', etc. The values should be lamdba functions that execute the operations. Use the dicitonary on some pairs of numbers and operations."
   ]
  },
  {
   "cell_type": "code",
   "execution_count": 12,
   "metadata": {},
   "outputs": [],
   "source": [
    "d={'add':add=lambda x,y:x+y,\n",
    "'sub':sub=lambda x,y:x-y,\n",
    "'mul':mul=lambda x,y:x*y,\n",
    "}"
   ]
  },
  {
   "cell_type": "code",
   "execution_count": 16,
   "metadata": {},
   "outputs": [
    {
     "data": {
      "text/plain": [
       "3"
      ]
     },
     "execution_count": 16,
     "metadata": {},
     "output_type": "execute_result"
    }
   ],
   "source": [
    "d['mul'](1,3)"
   ]
  },
  {
   "cell_type": "markdown",
   "metadata": {},
   "source": [
    "## Generators"
   ]
  },
  {
   "cell_type": "markdown",
   "metadata": {},
   "source": [
    "### Generator expressions\n",
    "Generator expressions are very similar to list comprehensions, generate their results one by one."
   ]
  },
  {
   "cell_type": "code",
   "execution_count": 17,
   "metadata": {},
   "outputs": [
    {
     "data": {
      "text/plain": [
       "[0, 1, 4, 9]"
      ]
     },
     "execution_count": 17,
     "metadata": {},
     "output_type": "execute_result"
    }
   ],
   "source": [
    "[x**2 for x in range(4)]\n"
   ]
  },
  {
   "cell_type": "code",
   "execution_count": 2,
   "metadata": {},
   "outputs": [
    {
     "data": {
      "text/plain": [
       "<generator object <genexpr> at 0x000002B7F60E0F20>"
      ]
     },
     "execution_count": 2,
     "metadata": {},
     "output_type": "execute_result"
    }
   ],
   "source": [
    "g=(x**2 for x in range(4))\n",
    "g"
   ]
  },
  {
   "cell_type": "code",
   "execution_count": 4,
   "metadata": {},
   "outputs": [
    {
     "data": {
      "text/plain": [
       "1"
      ]
     },
     "execution_count": 4,
     "metadata": {},
     "output_type": "execute_result"
    }
   ],
   "source": [
    "next(g)"
   ]
  },
  {
   "cell_type": "code",
   "execution_count": null,
   "metadata": {},
   "outputs": [],
   "source": [
    "# next(g)"
   ]
  },
  {
   "cell_type": "code",
   "execution_count": 18,
   "metadata": {},
   "outputs": [
    {
     "name": "stdout",
     "output_type": "stream",
     "text": [
      "0\n",
      "1\n",
      "4\n",
      "9\n"
     ]
    }
   ],
   "source": [
    "# For loops and other iteration contexts (for example, comprehensions)\n",
    "# can iterate over the elements a generator produces\n",
    "g = (x**2 for x in range(4))\n",
    "\n",
    "for e in g:\n",
    "    print(e)"
   ]
  },
  {
   "cell_type": "code",
   "execution_count": 19,
   "metadata": {},
   "outputs": [],
   "source": [
    "### Once a generator is exhausted, it cannot be used again\n",
    "for e in g:\n",
    "    print(e)"
   ]
  },
  {
   "cell_type": "markdown",
   "metadata": {},
   "source": [
    "**Exercise**: Write a generator expression that filters a list of strings to keep only the alphabetic single words in the list."
   ]
  },
  {
   "cell_type": "code",
   "execution_count": 50,
   "metadata": {},
   "outputs": [],
   "source": [
    "l = ['cat', 'dog', 'two cats','2cats', 'mouse']"
   ]
  },
  {
   "cell_type": "code",
   "execution_count": 38,
   "metadata": {},
   "outputs": [
    {
     "data": {
      "text/plain": [
       "1"
      ]
     },
     "execution_count": 38,
     "metadata": {},
     "output_type": "execute_result"
    }
   ],
   "source": [
    "len('2cats'.split())"
   ]
  },
  {
   "cell_type": "code",
   "execution_count": 112,
   "metadata": {},
   "outputs": [
    {
     "data": {
      "text/plain": [
       "(True, False)"
      ]
     },
     "execution_count": 112,
     "metadata": {},
     "output_type": "execute_result"
    }
   ],
   "source": [
    "'cat'.isalpha(), '2cats'.isalpha()"
   ]
  },
  {
   "cell_type": "code",
   "execution_count": 56,
   "metadata": {},
   "outputs": [],
   "source": [
    "new=iter(l)"
   ]
  },
  {
   "cell_type": "code",
   "execution_count": 52,
   "metadata": {},
   "outputs": [
    {
     "data": {
      "text/plain": [
       "['cat', 'dog', 'two cats', '2cats', 'mouse']"
      ]
     },
     "execution_count": 52,
     "metadata": {},
     "output_type": "execute_result"
    }
   ],
   "source": [
    "list(new)"
   ]
  },
  {
   "cell_type": "code",
   "execution_count": 58,
   "metadata": {},
   "outputs": [
    {
     "data": {
      "text/plain": [
       "[]"
      ]
     },
     "execution_count": 58,
     "metadata": {},
     "output_type": "execute_result"
    }
   ],
   "source": [
    "lst=list()\n",
    "for e in new:\n",
    "    if len(list(e.split()))>1 or not e.isalpha():\n",
    "        continue\n",
    "    else:\n",
    "        lst.append(e)\n",
    "lst"
   ]
  },
  {
   "cell_type": "markdown",
   "metadata": {},
   "source": [
    "### Generator functions\n",
    "\n",
    "Yield returns from a function, but retains the local state, and when we request the next item, it will continue from there."
   ]
  },
  {
   "cell_type": "code",
   "execution_count": 60,
   "metadata": {},
   "outputs": [],
   "source": [
    "def generate_fibonacci(n):\n",
    "    \"\"\"Generate the Fibonacci sequence up to n.\"\"\"\n",
    "    prev = current = 1\n",
    "    yield 1\n",
    "    while current < n:\n",
    "        yield current\n",
    "        prev, current = current, current + prev"
   ]
  },
  {
   "cell_type": "code",
   "execution_count": 65,
   "metadata": {
    "scrolled": true
   },
   "outputs": [
    {
     "data": {
      "text/plain": [
       "[1, 1, 2, 3, 5, 8, 13, 21, 34, 55, 89]"
      ]
     },
     "execution_count": 65,
     "metadata": {},
     "output_type": "execute_result"
    }
   ],
   "source": [
    "g = generate_fibonacci(100)\n",
    "list(g)\n",
    "#next(g), next(g), next(g), next(g),next(g), next(g), next(g), next(g)"
   ]
  },
  {
   "cell_type": "code",
   "execution_count": 66,
   "metadata": {},
   "outputs": [
    {
     "name": "stdout",
     "output_type": "stream",
     "text": [
      "1 1 2 3 5 8 13 21 34 55 89 "
     ]
    }
   ],
   "source": [
    "for e in generate_fibonacci(100):\n",
    "    print(e, end=' ')"
   ]
  },
  {
   "cell_type": "markdown",
   "metadata": {},
   "source": [
    "**Exercise**: Write a generator function that takes a bigram language model and a word, and generates text that starts with the word. The bigram language model has the probability of any word given the previous word. If the model encounters the STOP symbol, it stops."
   ]
  },
  {
   "cell_type": "code",
   "execution_count": 68,
   "metadata": {},
   "outputs": [],
   "source": [
    "# I have taken some liberties with this model, it's not always just words to make it simpler.\n",
    "model = {'the': {'cat': 0.5, 'dog': 0.5},\n",
    "         'cat': {'meows': 0.4, 'drinks': 0.4, 'naps': 0.2},\n",
    "         'dog': {'barks': 0.6, 'plays': 0.4},\n",
    "         'meows': {'STOP': 1.0},\n",
    "         'drinks': {'milk': 0.5, 'STOP': 0.5},\n",
    "         'naps': {'on the couch': 0.5, 'STOP': 0.5},\n",
    "         'barks': {'at the neighbor': 0.4, 'at the cat': 0.3, 'STOP': 0.3},\n",
    "         'plays': {'with the ball': 0.5, 'STOP': 0.5},\n",
    "         'milk': {'STOP': 1.0},\n",
    "         'on the couch': {'STOP': 1.0},\n",
    "         'at the neighbor': {'STOP': 1.0},\n",
    "         'at the cat': {'STOP': 1.0},\n",
    "         'with the ball': {'STOP': 1.0},\n",
    "        }"
   ]
  },
  {
   "cell_type": "code",
   "execution_count": 69,
   "metadata": {},
   "outputs": [
    {
     "name": "stdout",
     "output_type": "stream",
     "text": [
      "['b']\n",
      "['b']\n",
      "['a']\n",
      "['b']\n",
      "['b']\n",
      "['b']\n",
      "['b']\n",
      "['b']\n",
      "['b']\n",
      "['b']\n"
     ]
    }
   ],
   "source": [
    "import random\n",
    "for i in range(10):\n",
    "    print(random.choices(['a', 'b'], weights=[0.1, 0.9]))"
   ]
  },
  {
   "cell_type": "code",
   "execution_count": 70,
   "metadata": {},
   "outputs": [
    {
     "data": {
      "text/plain": [
       "dict_keys(['the', 'cat', 'dog', 'meows', 'drinks', 'naps', 'barks', 'plays', 'milk', 'on the couch', 'at the neighbor', 'at the cat', 'with the ball'])"
      ]
     },
     "execution_count": 70,
     "metadata": {},
     "output_type": "execute_result"
    }
   ],
   "source": [
    "model.keys()"
   ]
  },
  {
   "cell_type": "code",
   "execution_count": 71,
   "metadata": {
    "scrolled": true
   },
   "outputs": [
    {
     "data": {
      "text/plain": [
       "dict_values([{'cat': 0.5, 'dog': 0.5}, {'meows': 0.4, 'drinks': 0.4, 'naps': 0.2}, {'barks': 0.6, 'plays': 0.4}, {'STOP': 1.0}, {'milk': 0.5, 'STOP': 0.5}, {'on the couch': 0.5, 'STOP': 0.5}, {'at the neighbor': 0.4, 'at the cat': 0.3, 'STOP': 0.3}, {'with the ball': 0.5, 'STOP': 0.5}, {'STOP': 1.0}, {'STOP': 1.0}, {'STOP': 1.0}, {'STOP': 1.0}, {'STOP': 1.0}])"
      ]
     },
     "execution_count": 71,
     "metadata": {},
     "output_type": "execute_result"
    }
   ],
   "source": [
    "model.values()"
   ]
  },
  {
   "cell_type": "code",
   "execution_count": null,
   "metadata": {},
   "outputs": [],
   "source": []
  },
  {
   "cell_type": "markdown",
   "metadata": {},
   "source": [
    "## Recursion"
   ]
  },
  {
   "cell_type": "code",
   "execution_count": 72,
   "metadata": {},
   "outputs": [],
   "source": [
    "def factorial(n):\n",
    "    if n == 1:\n",
    "        return n\n",
    "    else:\n",
    "        return n*factorial(n-1)"
   ]
  },
  {
   "cell_type": "code",
   "execution_count": 73,
   "metadata": {},
   "outputs": [
    {
     "data": {
      "text/plain": [
       "24"
      ]
     },
     "execution_count": 73,
     "metadata": {},
     "output_type": "execute_result"
    }
   ],
   "source": [
    "factorial(4)"
   ]
  },
  {
   "cell_type": "code",
   "execution_count": 74,
   "metadata": {},
   "outputs": [],
   "source": [
    "l = [[[1, 2, 3, [13]], [14, 2], 5], [1, 2, 3, 4], [[[2, 3], 4], 5], 6]"
   ]
  },
  {
   "cell_type": "code",
   "execution_count": 75,
   "metadata": {},
   "outputs": [],
   "source": [
    "# Find an element of the list l and return its depth\n",
    "def find(l, to_find, index=0):\n",
    "    if isinstance(l, list):\n",
    "        print(l)\n",
    "        for e in l:\n",
    "            result = find(e, to_find, index+1)\n",
    "            if result:\n",
    "                return result\n",
    "    else:\n",
    "        print(l)\n",
    "        if to_find == l:\n",
    "            return index, l\n",
    "        else:\n",
    "            return False"
   ]
  },
  {
   "cell_type": "code",
   "execution_count": 76,
   "metadata": {},
   "outputs": [
    {
     "name": "stdout",
     "output_type": "stream",
     "text": [
      "[[[1, 2, 3, [13]], [14, 2], 5], [1, 2, 3, 4], [[[2, 3], 4], 5], 6]\n",
      "[[1, 2, 3, [13]], [14, 2], 5]\n",
      "[1, 2, 3, [13]]\n",
      "1\n",
      "2\n",
      "3\n",
      "[13]\n",
      "13\n"
     ]
    },
    {
     "data": {
      "text/plain": [
       "(4, 13)"
      ]
     },
     "execution_count": 76,
     "metadata": {},
     "output_type": "execute_result"
    }
   ],
   "source": [
    "find(l, 13)"
   ]
  },
  {
   "cell_type": "markdown",
   "metadata": {},
   "source": [
    "**Exercise**: Add all the numbers in the list."
   ]
  },
  {
   "cell_type": "code",
   "execution_count": 91,
   "metadata": {},
   "outputs": [
    {
     "name": "stdout",
     "output_type": "stream",
     "text": [
      "[[[1, 2, 3, [13]], [14, 2], 5], [1, 2, 3, 4], [[[2, 3], 4], 5], 6]\n",
      "[[1, 2, 3, [13]], [14, 2], 5]\n",
      "[1, 2, 3, [13]]\n",
      "[13]\n",
      "[14, 2]\n",
      "[1, 2, 3, 4]\n",
      "[[[2, 3], 4], 5]\n",
      "[[2, 3], 4]\n",
      "[2, 3]\n"
     ]
    },
    {
     "data": {
      "text/plain": [
       "70"
      ]
     },
     "execution_count": 91,
     "metadata": {},
     "output_type": "execute_result"
    }
   ],
   "source": [
    "# Add all the numbers in the list. and return its sum\n",
    "def rsum(l, index=0):\n",
    "    lsum=0\n",
    "    if isinstance(l, list):\n",
    "        print(l)\n",
    "        for e in l:\n",
    "            if str(e).isdigit():\n",
    "                lsum+=e\n",
    "            else:\n",
    "                lsum+=rsum(e,index+1)\n",
    "        return lsum\n",
    "    else:\n",
    "        return 0\n",
    "sumation=rsum(l)\n",
    "sumation"
   ]
  },
  {
   "cell_type": "code",
   "execution_count": 92,
   "metadata": {},
   "outputs": [
    {
     "data": {
      "text/plain": [
       "True"
      ]
     },
     "execution_count": 92,
     "metadata": {},
     "output_type": "execute_result"
    }
   ],
   "source": [
    "a='3'\n",
    "a.isdigit()"
   ]
  },
  {
   "cell_type": "markdown",
   "metadata": {},
   "source": [
    "### Nested functions"
   ]
  },
  {
   "cell_type": "code",
   "execution_count": 93,
   "metadata": {},
   "outputs": [],
   "source": [
    "def outer(l):\n",
    "    s = 0\n",
    "    def inner(l):\n",
    "        nonlocal s\n",
    "        if isinstance(l, list):\n",
    "            for e in l:\n",
    "                inner(e)\n",
    "        else:\n",
    "            s += l\n",
    "    inner(l)\n",
    "    return s"
   ]
  },
  {
   "cell_type": "code",
   "execution_count": 100,
   "metadata": {},
   "outputs": [
    {
     "data": {
      "text/plain": [
       "[1, 2, 3, 13, 14, 2, 5, 1, 2, 3, 4, 2, 3, 4, 5, 6]"
      ]
     },
     "execution_count": 100,
     "metadata": {},
     "output_type": "execute_result"
    }
   ],
   "source": [
    "outer(l)"
   ]
  },
  {
   "cell_type": "markdown",
   "metadata": {},
   "source": [
    "**Exercise**: Flatten the list using nested functions. In the inner function, collect the elements into a list that is defined in the outer function."
   ]
  },
  {
   "cell_type": "code",
   "execution_count": 99,
   "metadata": {},
   "outputs": [],
   "source": [
    "def outer(l):\n",
    "    newl=[]\n",
    "    def inner(l):\n",
    "        nonlocal newl\n",
    "        if isinstance(l, list):\n",
    "            for e in l:\n",
    "                inner(e)\n",
    "        else:\n",
    "            newl.append(l)\n",
    "    inner(l)\n",
    "    return newl"
   ]
  },
  {
   "cell_type": "markdown",
   "metadata": {},
   "source": [
    "### Yielding from another generator"
   ]
  },
  {
   "cell_type": "code",
   "execution_count": 101,
   "metadata": {},
   "outputs": [],
   "source": [
    "def many_generators():\n",
    "    generators = [(x**2 for x in range(5)), (x**3 for x in range(4)), (1/x for x in range(1, 5))]\n",
    "    for g in generators:\n",
    "        yield from g"
   ]
  },
  {
   "cell_type": "code",
   "execution_count": 102,
   "metadata": {},
   "outputs": [
    {
     "data": {
      "text/plain": [
       "[0, 1, 4, 9, 16, 0, 1, 8, 27, 1.0, 0.5, 0.3333333333333333, 0.25]"
      ]
     },
     "execution_count": 102,
     "metadata": {},
     "output_type": "execute_result"
    }
   ],
   "source": [
    "list(many_generators())"
   ]
  },
  {
   "cell_type": "markdown",
   "metadata": {},
   "source": [
    "**Exercise**: Flatten the list using a recursive generator function. Hint: use yield from."
   ]
  },
  {
   "cell_type": "code",
   "execution_count": null,
   "metadata": {},
   "outputs": [],
   "source": []
  },
  {
   "cell_type": "markdown",
   "metadata": {},
   "source": [
    "### Closures"
   ]
  },
  {
   "cell_type": "code",
   "execution_count": null,
   "metadata": {},
   "outputs": [],
   "source": [
    "def make_adder(x):\n",
    "    def add(i):\n",
    "        return i + x\n",
    "    return add"
   ]
  },
  {
   "cell_type": "code",
   "execution_count": null,
   "metadata": {},
   "outputs": [],
   "source": [
    "f = make_adder(5)\n",
    "f(4)"
   ]
  },
  {
   "cell_type": "markdown",
   "metadata": {},
   "source": [
    "**Exercise**: Write a function that produces a function that can tell whether it has already seen a number or not!"
   ]
  },
  {
   "cell_type": "code",
   "execution_count": null,
   "metadata": {},
   "outputs": [],
   "source": []
  },
  {
   "cell_type": "markdown",
   "metadata": {},
   "source": [
    "## Classes"
   ]
  },
  {
   "cell_type": "code",
   "execution_count": null,
   "metadata": {},
   "outputs": [],
   "source": [
    "class Person:\n",
    "    \n",
    "    num_people = 0\n",
    "    \n",
    "    def __init__(self, name, age):\n",
    "        self.name = name\n",
    "        self.age = age\n",
    "        self.presents = []\n",
    "        Person.num_people += 1\n",
    "    \n",
    "    def birthday(self, present):\n",
    "        self.age += 1\n",
    "        self.presents.append(present)"
   ]
  },
  {
   "cell_type": "code",
   "execution_count": null,
   "metadata": {},
   "outputs": [],
   "source": [
    "d = Person('Daniel', 1)\n",
    "a = Person('Anne', 4)\n",
    "r = Person('Rose', 6)"
   ]
  },
  {
   "cell_type": "code",
   "execution_count": null,
   "metadata": {},
   "outputs": [],
   "source": [
    "d.name, d.age"
   ]
  },
  {
   "cell_type": "code",
   "execution_count": null,
   "metadata": {},
   "outputs": [],
   "source": [
    "d.birthday('puppy')"
   ]
  },
  {
   "cell_type": "code",
   "execution_count": null,
   "metadata": {},
   "outputs": [],
   "source": [
    "d.presents"
   ]
  },
  {
   "cell_type": "code",
   "execution_count": null,
   "metadata": {},
   "outputs": [],
   "source": [
    "Person.num_people"
   ]
  },
  {
   "cell_type": "code",
   "execution_count": null,
   "metadata": {},
   "outputs": [],
   "source": [
    "d.num_people # this is already inheritance, the first step in the tree is the class"
   ]
  },
  {
   "cell_type": "code",
   "execution_count": null,
   "metadata": {},
   "outputs": [],
   "source": [
    "# classes are also first class objects\n",
    "Person"
   ]
  },
  {
   "cell_type": "markdown",
   "metadata": {},
   "source": [
    "### Inheritance"
   ]
  },
  {
   "cell_type": "code",
   "execution_count": null,
   "metadata": {},
   "outputs": [],
   "source": [
    "class Animal:\n",
    "    \n",
    "    def __init__(self, name):\n",
    "        self.name = name\n",
    "        \n",
    "    def make_sound(self):\n",
    "        print('The animal is making some sound.')"
   ]
  },
  {
   "cell_type": "code",
   "execution_count": null,
   "metadata": {},
   "outputs": [],
   "source": [
    "class WildAnimal(Animal):\n",
    "    \n",
    "    def make_sound(self):\n",
    "        print('The wild animal is making some sound.')"
   ]
  },
  {
   "cell_type": "code",
   "execution_count": null,
   "metadata": {},
   "outputs": [],
   "source": [
    "class Tiger(WildAnimal):\n",
    "    \n",
    "    def make_sound(self):\n",
    "        print('The tiger roars!')"
   ]
  },
  {
   "cell_type": "code",
   "execution_count": null,
   "metadata": {},
   "outputs": [],
   "source": [
    "class Giraffe(WildAnimal):\n",
    "    pass"
   ]
  },
  {
   "cell_type": "code",
   "execution_count": null,
   "metadata": {},
   "outputs": [],
   "source": [
    "l = [Tiger('Frank'), Giraffe('Peter'), Tiger('Anne')]\n",
    "l"
   ]
  },
  {
   "cell_type": "code",
   "execution_count": null,
   "metadata": {},
   "outputs": [],
   "source": [
    "for a in l:\n",
    "    a.make_sound()"
   ]
  },
  {
   "cell_type": "markdown",
   "metadata": {},
   "source": [
    "**Exercise**: Extend the hierarchy with cats and dogs. They are pets."
   ]
  },
  {
   "cell_type": "code",
   "execution_count": null,
   "metadata": {},
   "outputs": [],
   "source": []
  },
  {
   "cell_type": "markdown",
   "metadata": {},
   "source": [
    "**Exercise**: Create a list of different animal classes, and make instances by iterating over the list."
   ]
  },
  {
   "cell_type": "code",
   "execution_count": null,
   "metadata": {},
   "outputs": [],
   "source": []
  },
  {
   "cell_type": "markdown",
   "metadata": {},
   "source": [
    "### An example of operator overloading"
   ]
  },
  {
   "cell_type": "code",
   "execution_count": null,
   "metadata": {},
   "outputs": [],
   "source": [
    "import random\n",
    "class RandomMatrix:\n",
    "    \n",
    "    def __init__(self, m, n):\n",
    "        self.contents = [[random.random() for i in range(m)] for j in range(n)]\n",
    "        \n",
    "    def __getitem__(self, index):\n",
    "        if isinstance(index, tuple):\n",
    "            i, j = index\n",
    "            return self.contents[i][j]\n",
    "        else:\n",
    "            return self.contents[index]\n",
    "        \n",
    "    def __repr__(self):\n",
    "        return self.contents.__repr__()"
   ]
  },
  {
   "cell_type": "code",
   "execution_count": null,
   "metadata": {},
   "outputs": [],
   "source": [
    "rn = RandomMatrix(3, 3)\n",
    "rn"
   ]
  },
  {
   "cell_type": "code",
   "execution_count": null,
   "metadata": {},
   "outputs": [],
   "source": [
    "rn[0, 1]"
   ]
  },
  {
   "cell_type": "code",
   "execution_count": null,
   "metadata": {},
   "outputs": [],
   "source": [
    "rn[-1, -1]"
   ]
  },
  {
   "cell_type": "code",
   "execution_count": null,
   "metadata": {
    "scrolled": true
   },
   "outputs": [],
   "source": [
    "rn[0]"
   ]
  },
  {
   "cell_type": "code",
   "execution_count": null,
   "metadata": {},
   "outputs": [],
   "source": [
    "rn[:2]"
   ]
  },
  {
   "cell_type": "markdown",
   "metadata": {},
   "source": [
    "**Exercise**: Create a class to store the state of the 8-queens problem. The problem is to put 8 queens onto the 8 by 8 chessboard so they don't attack each other. You don't need to take white and black squares into consideration."
   ]
  },
  {
   "cell_type": "code",
   "execution_count": null,
   "metadata": {},
   "outputs": [],
   "source": []
  },
  {
   "cell_type": "markdown",
   "metadata": {},
   "source": [
    "### Callable classes"
   ]
  },
  {
   "cell_type": "code",
   "execution_count": null,
   "metadata": {},
   "outputs": [],
   "source": [
    "class Colorize:\n",
    "    \n",
    "    def __init__(self, color='blue'):\n",
    "        self.color = color\n",
    "        \n",
    "    def __call__(self, what):\n",
    "        return f'Coloring the {what} {self.color}!'"
   ]
  },
  {
   "cell_type": "code",
   "execution_count": null,
   "metadata": {},
   "outputs": [],
   "source": [
    "cb, cg = Colorize(), Colorize('green')"
   ]
  },
  {
   "cell_type": "code",
   "execution_count": null,
   "metadata": {},
   "outputs": [],
   "source": [
    "cb('sky'), cg('grass')"
   ]
  },
  {
   "cell_type": "markdown",
   "metadata": {},
   "source": [
    "## Modules"
   ]
  },
  {
   "cell_type": "code",
   "execution_count": null,
   "metadata": {},
   "outputs": [],
   "source": [
    "# modules are in python source files\n",
    "# when we import a module, it becomes an object\n",
    "import os\n",
    "os"
   ]
  },
  {
   "cell_type": "markdown",
   "metadata": {},
   "source": [
    "## Exceptions"
   ]
  },
  {
   "cell_type": "code",
   "execution_count": null,
   "metadata": {},
   "outputs": [],
   "source": [
    "d = {'a': 1, 'b': 2}\n",
    "d['a']"
   ]
  },
  {
   "cell_type": "code",
   "execution_count": null,
   "metadata": {},
   "outputs": [],
   "source": [
    "# a = d['c']"
   ]
  },
  {
   "cell_type": "code",
   "execution_count": null,
   "metadata": {},
   "outputs": [],
   "source": [
    "try:\n",
    "    a = d['c']\n",
    "except KeyError:\n",
    "    a = 32\n",
    "a"
   ]
  },
  {
   "cell_type": "code",
   "execution_count": null,
   "metadata": {
    "scrolled": true
   },
   "outputs": [],
   "source": [
    "try:\n",
    "    a = d['c']\n",
    "except KeyError:\n",
    "    a = 32\n",
    "finally:\n",
    "    print('This part always runs')\n",
    "a"
   ]
  },
  {
   "cell_type": "code",
   "execution_count": null,
   "metadata": {},
   "outputs": [],
   "source": [
    "# we can also raise exceptions\n",
    "# raise NotImplementedError"
   ]
  },
  {
   "cell_type": "markdown",
   "metadata": {},
   "source": [
    "**Exercise**: Try to cause three different types of exceptions."
   ]
  },
  {
   "cell_type": "code",
   "execution_count": null,
   "metadata": {},
   "outputs": [],
   "source": []
  },
  {
   "cell_type": "markdown",
   "metadata": {},
   "source": [
    "### Exceptions unwind the call stack"
   ]
  },
  {
   "cell_type": "code",
   "execution_count": null,
   "metadata": {},
   "outputs": [],
   "source": [
    "def exc():\n",
    "    print('before exception')\n",
    "    raise Exception()\n",
    "    print('after exception')"
   ]
  },
  {
   "cell_type": "code",
   "execution_count": null,
   "metadata": {},
   "outputs": [],
   "source": [
    "try:\n",
    "    exc()\n",
    "except:\n",
    "    print('in except block')    "
   ]
  },
  {
   "cell_type": "markdown",
   "metadata": {},
   "source": [
    "## Files and context managers"
   ]
  },
  {
   "cell_type": "code",
   "execution_count": null,
   "metadata": {},
   "outputs": [],
   "source": [
    "f = open('02 - Python.ipynb')\n",
    "for line in f:\n",
    "    print(line.rstrip())"
   ]
  },
  {
   "cell_type": "code",
   "execution_count": null,
   "metadata": {},
   "outputs": [],
   "source": [
    "f.close()"
   ]
  },
  {
   "cell_type": "code",
   "execution_count": null,
   "metadata": {},
   "outputs": [],
   "source": [
    "with open('02 - Python.ipynb') as f:\n",
    "    for line in f:\n",
    "        print(line.rstrip())"
   ]
  },
  {
   "cell_type": "markdown",
   "metadata": {},
   "source": [
    "**Exercise**: Create a class to read a CSV file and store its content. It should be indexable as a matrix. The CSV file can only contain floating points numbers."
   ]
  },
  {
   "cell_type": "code",
   "execution_count": null,
   "metadata": {},
   "outputs": [],
   "source": []
  }
 ],
 "metadata": {
  "kernelspec": {
   "display_name": "Python 3",
   "language": "python",
   "name": "python3"
  },
  "language_info": {
   "codemirror_mode": {
    "name": "ipython",
    "version": 3
   },
   "file_extension": ".py",
   "mimetype": "text/x-python",
   "name": "python",
   "nbconvert_exporter": "python",
   "pygments_lexer": "ipython3",
   "version": "3.8.8"
  }
 },
 "nbformat": 4,
 "nbformat_minor": 2
}
